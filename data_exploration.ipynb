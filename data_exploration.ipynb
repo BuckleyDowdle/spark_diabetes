{
  "nbformat": 4,
  "nbformat_minor": 0,
  "metadata": {
    "colab": {
      "name": "diabete.ipynb",
      "provenance": [],
      "collapsed_sections": []
    },
    "kernelspec": {
      "name": "python3",
      "display_name": "Python 3"
    },
    "language_info": {
      "name": "python"
    }
  },
  "cells": [
    {
      "cell_type": "markdown",
      "metadata": {
        "id": "lkVDhUY_eBvR"
      },
      "source": [
        "### University of Virginia\n",
        "### DS 5559: Big Data Analytics\n",
        "### 5.11 Final Project Assignment\n",
        "#### Buckley Dowdle(Bd6fr), Jae Yoon Sung(js2yp), Luke Moles(lmm8fb), Latifa Hasan(lmh3ge)"
      ]
    },
    {
      "cell_type": "code",
      "metadata": {
        "id": "Y994smMB2KBF"
      },
      "source": [
        "import pandas as pd\n",
        "\n",
        "df = pd.read_csv('sample_data/2017_data.csv')"
      ],
      "execution_count": null,
      "outputs": []
    },
    {
      "cell_type": "code",
      "metadata": {
        "colab": {
          "base_uri": "https://localhost:8080/"
        },
        "id": "2-XigLSa2PXh",
        "outputId": "43656b7c-26da-4e5b-a34b-f88d1ce3bdb7"
      },
      "source": [
        "#number of rows\n",
        "df.shape[0]"
      ],
      "execution_count": null,
      "outputs": [
        {
          "output_type": "execute_result",
          "data": {
            "text/plain": [
              "114297"
            ]
          },
          "metadata": {
            "tags": []
          },
          "execution_count": 3
        }
      ]
    },
    {
      "cell_type": "code",
      "metadata": {
        "colab": {
          "base_uri": "https://localhost:8080/"
        },
        "id": "XcsEaU6W2PZv",
        "outputId": "a8649bc3-03f0-48a6-aca5-c946527a84de"
      },
      "source": [
        "#number of columns\n",
        "df.shape[1]"
      ],
      "execution_count": null,
      "outputs": [
        {
          "output_type": "execute_result",
          "data": {
            "text/plain": [
              "48"
            ]
          },
          "metadata": {
            "tags": []
          },
          "execution_count": 4
        }
      ]
    },
    {
      "cell_type": "code",
      "metadata": {
        "colab": {
          "base_uri": "https://localhost:8080/"
        },
        "id": "1pRwLjn-2Pc_",
        "outputId": "9598a471-dab7-41dd-9672-1c072a579436"
      },
      "source": [
        "df.info()"
      ],
      "execution_count": null,
      "outputs": [
        {
          "output_type": "stream",
          "text": [
            "<class 'pandas.core.frame.DataFrame'>\n",
            "RangeIndex: 114297 entries, 0 to 114296\n",
            "Data columns (total 48 columns):\n",
            " #   Column             Non-Null Count   Dtype  \n",
            "---  ------             --------------   -----  \n",
            " 0   ParticipantID      114297 non-null  int64  \n",
            " 1   Gender             114297 non-null  int64  \n",
            " 2   Age                114297 non-null  float64\n",
            " 3   Race               114297 non-null  int64  \n",
            " 4   Education_Level    74945 non-null   float64\n",
            " 5   Household_income   109742 non-null  float64\n",
            " 6   Pulse              110309 non-null  float64\n",
            " 7   SysBP              89922 non-null   float64\n",
            " 8   DiasBP             89922 non-null   float64\n",
            " 9   Energy             111710 non-null  float64\n",
            " 10  Protein            111710 non-null  float64\n",
            " 11  Carbohydrates      111710 non-null  float64\n",
            " 12  Total_sugar        111710 non-null  float64\n",
            " 13  Fiber              111710 non-null  float64\n",
            " 14  Total_fat          111710 non-null  float64\n",
            " 15  Sat_fat            111710 non-null  float64\n",
            " 16  Monounsat_fat      111710 non-null  float64\n",
            " 17  Polyunsat_fat      111710 non-null  float64\n",
            " 18  cholesterol        111710 non-null  float64\n",
            " 19  Alcohol            111710 non-null  float64\n",
            " 20  Weight(kg)         112745 non-null  float64\n",
            " 21  BMI                105963 non-null  float64\n",
            " 22  Waist_Circum       102771 non-null  float64\n",
            " 23  Insulin            39231 non-null   float64\n",
            " 24  Glucose            40074 non-null   float64\n",
            " 25  Avg_Drinks         52170 non-null   float64\n",
            " 26  4-5_Drinks         21242 non-null   float64\n",
            " 27  8+Drinks           21242 non-null   float64\n",
            " 28  12+Drinks          7667 non-null    float64\n",
            " 29  4-5DrinksDaily     67046 non-null   float64\n",
            " 30  HighBP             81176 non-null   float64\n",
            " 31  HighChol           81176 non-null   float64\n",
            " 32  VigWork            77945 non-null   float64\n",
            " 33  ModWork            77945 non-null   float64\n",
            " 34  Walk_bike          77945 non-null   float64\n",
            " 35  VigActivity        77945 non-null   float64\n",
            " 36  ModActivity        77945 non-null   float64\n",
            " 37  100Cigs            77945 non-null   float64\n",
            " 38  Smoke_Cigs         31058 non-null   float64\n",
            " 39  Smoke_Cigar        77945 non-null   float64\n",
            " 40  E_cig              77945 non-null   float64\n",
            " 41  Smokeless_tobacco  77945 non-null   float64\n",
            " 42  Diagnosis          110637 non-null  float64\n",
            " 43  Diagnosed_age      11937 non-null   float64\n",
            " 44  Prediabetes        73140 non-null   float64\n",
            " 45  Diabetes_risk      75761 non-null   float64\n",
            " 46  Fam_hist           15889 non-null   float64\n",
            " 47  Blood_test         75761 non-null   float64\n",
            "dtypes: float64(45), int64(3)\n",
            "memory usage: 41.9 MB\n"
          ],
          "name": "stdout"
        }
      ]
    },
    {
      "cell_type": "code",
      "metadata": {
        "colab": {
          "base_uri": "https://localhost:8080/",
          "height": 321
        },
        "id": "AgA78L_32rZ3",
        "outputId": "dfef1497-a1d2-4f7d-e838-d856670ae4d9"
      },
      "source": [
        "df.describe()"
      ],
      "execution_count": null,
      "outputs": [
        {
          "output_type": "execute_result",
          "data": {
            "text/html": [
              "<div>\n",
              "<style scoped>\n",
              "    .dataframe tbody tr th:only-of-type {\n",
              "        vertical-align: middle;\n",
              "    }\n",
              "\n",
              "    .dataframe tbody tr th {\n",
              "        vertical-align: top;\n",
              "    }\n",
              "\n",
              "    .dataframe thead th {\n",
              "        text-align: right;\n",
              "    }\n",
              "</style>\n",
              "<table border=\"1\" class=\"dataframe\">\n",
              "  <thead>\n",
              "    <tr style=\"text-align: right;\">\n",
              "      <th></th>\n",
              "      <th>ParticipantID</th>\n",
              "      <th>Gender</th>\n",
              "      <th>Age</th>\n",
              "      <th>Race</th>\n",
              "      <th>Education_Level</th>\n",
              "      <th>Household_income</th>\n",
              "      <th>Pulse</th>\n",
              "      <th>SysBP</th>\n",
              "      <th>DiasBP</th>\n",
              "      <th>Energy</th>\n",
              "      <th>Protein</th>\n",
              "      <th>Carbohydrates</th>\n",
              "      <th>Total_sugar</th>\n",
              "      <th>Fiber</th>\n",
              "      <th>Total_fat</th>\n",
              "      <th>Sat_fat</th>\n",
              "      <th>Monounsat_fat</th>\n",
              "      <th>Polyunsat_fat</th>\n",
              "      <th>cholesterol</th>\n",
              "      <th>Alcohol</th>\n",
              "      <th>Weight(kg)</th>\n",
              "      <th>BMI</th>\n",
              "      <th>Waist_Circum</th>\n",
              "      <th>Insulin</th>\n",
              "      <th>Glucose</th>\n",
              "      <th>Avg_Drinks</th>\n",
              "      <th>4-5_Drinks</th>\n",
              "      <th>8+Drinks</th>\n",
              "      <th>12+Drinks</th>\n",
              "      <th>4-5DrinksDaily</th>\n",
              "      <th>HighBP</th>\n",
              "      <th>HighChol</th>\n",
              "      <th>VigWork</th>\n",
              "      <th>ModWork</th>\n",
              "      <th>Walk_bike</th>\n",
              "      <th>VigActivity</th>\n",
              "      <th>ModActivity</th>\n",
              "      <th>100Cigs</th>\n",
              "      <th>Smoke_Cigs</th>\n",
              "      <th>Smoke_Cigar</th>\n",
              "      <th>E_cig</th>\n",
              "      <th>Smokeless_tobacco</th>\n",
              "      <th>Diagnosis</th>\n",
              "      <th>Diagnosed_age</th>\n",
              "      <th>Prediabetes</th>\n",
              "      <th>Diabetes_risk</th>\n",
              "      <th>Fam_hist</th>\n",
              "      <th>Blood_test</th>\n",
              "    </tr>\n",
              "  </thead>\n",
              "  <tbody>\n",
              "    <tr>\n",
              "      <th>count</th>\n",
              "      <td>114297.000000</td>\n",
              "      <td>114297.000000</td>\n",
              "      <td>1.142970e+05</td>\n",
              "      <td>114297.000000</td>\n",
              "      <td>74945.000000</td>\n",
              "      <td>109742.000000</td>\n",
              "      <td>110309.000000</td>\n",
              "      <td>89922.000000</td>\n",
              "      <td>8.992200e+04</td>\n",
              "      <td>1.117100e+05</td>\n",
              "      <td>1.117100e+05</td>\n",
              "      <td>1.117100e+05</td>\n",
              "      <td>1.117100e+05</td>\n",
              "      <td>1.117100e+05</td>\n",
              "      <td>1.117100e+05</td>\n",
              "      <td>1.117100e+05</td>\n",
              "      <td>1.117100e+05</td>\n",
              "      <td>1.117100e+05</td>\n",
              "      <td>1.117100e+05</td>\n",
              "      <td>1.117100e+05</td>\n",
              "      <td>112745.000000</td>\n",
              "      <td>105963.000000</td>\n",
              "      <td>102771.000000</td>\n",
              "      <td>39231.000000</td>\n",
              "      <td>40074.000000</td>\n",
              "      <td>52170.000000</td>\n",
              "      <td>2.124200e+04</td>\n",
              "      <td>2.124200e+04</td>\n",
              "      <td>7.667000e+03</td>\n",
              "      <td>67046.000000</td>\n",
              "      <td>81176.000000</td>\n",
              "      <td>81176.000000</td>\n",
              "      <td>77945.000000</td>\n",
              "      <td>77945.000000</td>\n",
              "      <td>77945.000000</td>\n",
              "      <td>77945.000000</td>\n",
              "      <td>77945.000000</td>\n",
              "      <td>77945.000000</td>\n",
              "      <td>31058.000000</td>\n",
              "      <td>77945.000000</td>\n",
              "      <td>77945.000000</td>\n",
              "      <td>77945.000000</td>\n",
              "      <td>110637.000000</td>\n",
              "      <td>11937.000000</td>\n",
              "      <td>73140.000000</td>\n",
              "      <td>75761.000000</td>\n",
              "      <td>15889.000000</td>\n",
              "      <td>75761.000000</td>\n",
              "    </tr>\n",
              "    <tr>\n",
              "      <th>mean</th>\n",
              "      <td>98333.933034</td>\n",
              "      <td>1.512297</td>\n",
              "      <td>3.706632e+01</td>\n",
              "      <td>3.482699</td>\n",
              "      <td>3.650077</td>\n",
              "      <td>12.009632</td>\n",
              "      <td>1.027749</td>\n",
              "      <td>122.328062</td>\n",
              "      <td>6.899735e+01</td>\n",
              "      <td>1.334833e+02</td>\n",
              "      <td>4.889177e+00</td>\n",
              "      <td>1.614666e+01</td>\n",
              "      <td>7.118949e+00</td>\n",
              "      <td>1.031554e+00</td>\n",
              "      <td>5.362680e+00</td>\n",
              "      <td>1.766739e+00</td>\n",
              "      <td>1.818106e+00</td>\n",
              "      <td>1.254319e+00</td>\n",
              "      <td>1.821219e+01</td>\n",
              "      <td>3.918217e-01</td>\n",
              "      <td>67.077733</td>\n",
              "      <td>26.897292</td>\n",
              "      <td>91.159371</td>\n",
              "      <td>14.414249</td>\n",
              "      <td>6.230169</td>\n",
              "      <td>3.759268</td>\n",
              "      <td>4.023020e+00</td>\n",
              "      <td>3.221213e+00</td>\n",
              "      <td>4.142689e+00</td>\n",
              "      <td>1.863601</td>\n",
              "      <td>1.653062</td>\n",
              "      <td>1.692606</td>\n",
              "      <td>1.765604</td>\n",
              "      <td>1.570377</td>\n",
              "      <td>1.757970</td>\n",
              "      <td>1.737507</td>\n",
              "      <td>1.575470</td>\n",
              "      <td>1.601540</td>\n",
              "      <td>2.317342</td>\n",
              "      <td>1.636923</td>\n",
              "      <td>1.816897</td>\n",
              "      <td>1.850164</td>\n",
              "      <td>1.917731</td>\n",
              "      <td>57.652509</td>\n",
              "      <td>1.889828</td>\n",
              "      <td>1.846253</td>\n",
              "      <td>10.078419</td>\n",
              "      <td>1.750861</td>\n",
              "    </tr>\n",
              "    <tr>\n",
              "      <th>std</th>\n",
              "      <td>2680.324611</td>\n",
              "      <td>0.499851</td>\n",
              "      <td>2.536342e+01</td>\n",
              "      <td>1.698493</td>\n",
              "      <td>1.203824</td>\n",
              "      <td>15.455936</td>\n",
              "      <td>0.164255</td>\n",
              "      <td>20.028754</td>\n",
              "      <td>1.542920e+01</td>\n",
              "      <td>1.869483e+02</td>\n",
              "      <td>9.951052e+00</td>\n",
              "      <td>2.408492e+01</td>\n",
              "      <td>1.486558e+01</td>\n",
              "      <td>2.100512e+00</td>\n",
              "      <td>9.935154e+00</td>\n",
              "      <td>3.703092e+00</td>\n",
              "      <td>3.684414e+00</td>\n",
              "      <td>2.828922e+00</td>\n",
              "      <td>5.837878e+01</td>\n",
              "      <td>5.195303e+00</td>\n",
              "      <td>32.079762</td>\n",
              "      <td>8.021994</td>\n",
              "      <td>22.256373</td>\n",
              "      <td>20.346699</td>\n",
              "      <td>1.937458</td>\n",
              "      <td>36.030715</td>\n",
              "      <td>7.493524e+00</td>\n",
              "      <td>7.226929e+00</td>\n",
              "      <td>8.670866e+00</td>\n",
              "      <td>0.430676</td>\n",
              "      <td>0.569680</td>\n",
              "      <td>0.727908</td>\n",
              "      <td>0.467177</td>\n",
              "      <td>0.514944</td>\n",
              "      <td>0.428315</td>\n",
              "      <td>0.439992</td>\n",
              "      <td>0.494275</td>\n",
              "      <td>0.489584</td>\n",
              "      <td>0.901932</td>\n",
              "      <td>0.512706</td>\n",
              "      <td>0.403126</td>\n",
              "      <td>0.365860</td>\n",
              "      <td>0.371087</td>\n",
              "      <td>86.064866</td>\n",
              "      <td>0.434032</td>\n",
              "      <td>0.520148</td>\n",
              "      <td>2.640754</td>\n",
              "      <td>1.446341</td>\n",
              "    </tr>\n",
              "    <tr>\n",
              "      <th>min</th>\n",
              "      <td>93703.000000</td>\n",
              "      <td>1.000000</td>\n",
              "      <td>5.400000e-79</td>\n",
              "      <td>1.000000</td>\n",
              "      <td>1.000000</td>\n",
              "      <td>1.000000</td>\n",
              "      <td>1.000000</td>\n",
              "      <td>72.000000</td>\n",
              "      <td>5.400000e-79</td>\n",
              "      <td>5.400000e-79</td>\n",
              "      <td>5.400000e-79</td>\n",
              "      <td>5.400000e-79</td>\n",
              "      <td>5.400000e-79</td>\n",
              "      <td>5.400000e-79</td>\n",
              "      <td>5.400000e-79</td>\n",
              "      <td>5.400000e-79</td>\n",
              "      <td>5.400000e-79</td>\n",
              "      <td>5.400000e-79</td>\n",
              "      <td>5.400000e-79</td>\n",
              "      <td>5.400000e-79</td>\n",
              "      <td>3.200000</td>\n",
              "      <td>12.300000</td>\n",
              "      <td>40.000000</td>\n",
              "      <td>0.710000</td>\n",
              "      <td>2.610000</td>\n",
              "      <td>1.000000</td>\n",
              "      <td>5.400000e-79</td>\n",
              "      <td>5.400000e-79</td>\n",
              "      <td>5.400000e-79</td>\n",
              "      <td>1.000000</td>\n",
              "      <td>1.000000</td>\n",
              "      <td>1.000000</td>\n",
              "      <td>1.000000</td>\n",
              "      <td>1.000000</td>\n",
              "      <td>1.000000</td>\n",
              "      <td>1.000000</td>\n",
              "      <td>1.000000</td>\n",
              "      <td>1.000000</td>\n",
              "      <td>1.000000</td>\n",
              "      <td>1.000000</td>\n",
              "      <td>1.000000</td>\n",
              "      <td>1.000000</td>\n",
              "      <td>1.000000</td>\n",
              "      <td>1.000000</td>\n",
              "      <td>1.000000</td>\n",
              "      <td>1.000000</td>\n",
              "      <td>10.000000</td>\n",
              "      <td>1.000000</td>\n",
              "    </tr>\n",
              "    <tr>\n",
              "      <th>25%</th>\n",
              "      <td>96001.000000</td>\n",
              "      <td>1.000000</td>\n",
              "      <td>1.300000e+01</td>\n",
              "      <td>3.000000</td>\n",
              "      <td>3.000000</td>\n",
              "      <td>6.000000</td>\n",
              "      <td>1.000000</td>\n",
              "      <td>108.000000</td>\n",
              "      <td>6.200000e+01</td>\n",
              "      <td>1.000000e+01</td>\n",
              "      <td>7.000000e-02</td>\n",
              "      <td>4.100000e-01</td>\n",
              "      <td>5.000000e-02</td>\n",
              "      <td>5.400000e-79</td>\n",
              "      <td>4.000000e-02</td>\n",
              "      <td>2.000000e-03</td>\n",
              "      <td>1.000000e-03</td>\n",
              "      <td>3.000000e-03</td>\n",
              "      <td>5.400000e-79</td>\n",
              "      <td>5.400000e-79</td>\n",
              "      <td>49.100000</td>\n",
              "      <td>21.100000</td>\n",
              "      <td>76.100000</td>\n",
              "      <td>6.290000</td>\n",
              "      <td>5.330000</td>\n",
              "      <td>1.000000</td>\n",
              "      <td>5.400000e-79</td>\n",
              "      <td>5.400000e-79</td>\n",
              "      <td>5.400000e-79</td>\n",
              "      <td>2.000000</td>\n",
              "      <td>1.000000</td>\n",
              "      <td>1.000000</td>\n",
              "      <td>2.000000</td>\n",
              "      <td>1.000000</td>\n",
              "      <td>2.000000</td>\n",
              "      <td>1.000000</td>\n",
              "      <td>1.000000</td>\n",
              "      <td>1.000000</td>\n",
              "      <td>1.000000</td>\n",
              "      <td>1.000000</td>\n",
              "      <td>2.000000</td>\n",
              "      <td>2.000000</td>\n",
              "      <td>2.000000</td>\n",
              "      <td>41.000000</td>\n",
              "      <td>2.000000</td>\n",
              "      <td>2.000000</td>\n",
              "      <td>10.000000</td>\n",
              "      <td>1.000000</td>\n",
              "    </tr>\n",
              "    <tr>\n",
              "      <th>50%</th>\n",
              "      <td>98353.000000</td>\n",
              "      <td>2.000000</td>\n",
              "      <td>3.600000e+01</td>\n",
              "      <td>3.000000</td>\n",
              "      <td>4.000000</td>\n",
              "      <td>9.000000</td>\n",
              "      <td>1.000000</td>\n",
              "      <td>118.000000</td>\n",
              "      <td>7.000000e+01</td>\n",
              "      <td>7.700000e+01</td>\n",
              "      <td>1.090000e+00</td>\n",
              "      <td>7.020000e+00</td>\n",
              "      <td>1.440000e+00</td>\n",
              "      <td>1.000000e-01</td>\n",
              "      <td>1.140000e+00</td>\n",
              "      <td>2.520000e-01</td>\n",
              "      <td>2.610000e-01</td>\n",
              "      <td>1.390000e-01</td>\n",
              "      <td>5.400000e-79</td>\n",
              "      <td>5.400000e-79</td>\n",
              "      <td>69.800000</td>\n",
              "      <td>26.300000</td>\n",
              "      <td>92.600000</td>\n",
              "      <td>9.880000</td>\n",
              "      <td>5.720000</td>\n",
              "      <td>2.000000</td>\n",
              "      <td>5.400000e-79</td>\n",
              "      <td>5.400000e-79</td>\n",
              "      <td>5.400000e-79</td>\n",
              "      <td>2.000000</td>\n",
              "      <td>2.000000</td>\n",
              "      <td>2.000000</td>\n",
              "      <td>2.000000</td>\n",
              "      <td>2.000000</td>\n",
              "      <td>2.000000</td>\n",
              "      <td>2.000000</td>\n",
              "      <td>2.000000</td>\n",
              "      <td>2.000000</td>\n",
              "      <td>3.000000</td>\n",
              "      <td>2.000000</td>\n",
              "      <td>2.000000</td>\n",
              "      <td>2.000000</td>\n",
              "      <td>2.000000</td>\n",
              "      <td>50.000000</td>\n",
              "      <td>2.000000</td>\n",
              "      <td>2.000000</td>\n",
              "      <td>10.000000</td>\n",
              "      <td>2.000000</td>\n",
              "    </tr>\n",
              "    <tr>\n",
              "      <th>75%</th>\n",
              "      <td>100645.000000</td>\n",
              "      <td>2.000000</td>\n",
              "      <td>6.000000e+01</td>\n",
              "      <td>4.000000</td>\n",
              "      <td>5.000000</td>\n",
              "      <td>14.000000</td>\n",
              "      <td>1.000000</td>\n",
              "      <td>134.000000</td>\n",
              "      <td>7.800000e+01</td>\n",
              "      <td>1.770000e+02</td>\n",
              "      <td>5.280000e+00</td>\n",
              "      <td>2.429000e+01</td>\n",
              "      <td>8.320000e+00</td>\n",
              "      <td>1.200000e+00</td>\n",
              "      <td>6.630000e+00</td>\n",
              "      <td>1.961000e+00</td>\n",
              "      <td>2.091000e+00</td>\n",
              "      <td>1.236000e+00</td>\n",
              "      <td>9.000000e+00</td>\n",
              "      <td>5.400000e-79</td>\n",
              "      <td>86.700000</td>\n",
              "      <td>31.500000</td>\n",
              "      <td>106.000000</td>\n",
              "      <td>16.190000</td>\n",
              "      <td>6.330000</td>\n",
              "      <td>3.000000</td>\n",
              "      <td>9.000000e+00</td>\n",
              "      <td>7.000000e+00</td>\n",
              "      <td>8.000000e+00</td>\n",
              "      <td>2.000000</td>\n",
              "      <td>2.000000</td>\n",
              "      <td>2.000000</td>\n",
              "      <td>2.000000</td>\n",
              "      <td>2.000000</td>\n",
              "      <td>2.000000</td>\n",
              "      <td>2.000000</td>\n",
              "      <td>2.000000</td>\n",
              "      <td>2.000000</td>\n",
              "      <td>3.000000</td>\n",
              "      <td>2.000000</td>\n",
              "      <td>2.000000</td>\n",
              "      <td>2.000000</td>\n",
              "      <td>2.000000</td>\n",
              "      <td>60.000000</td>\n",
              "      <td>2.000000</td>\n",
              "      <td>2.000000</td>\n",
              "      <td>10.000000</td>\n",
              "      <td>2.000000</td>\n",
              "    </tr>\n",
              "    <tr>\n",
              "      <th>max</th>\n",
              "      <td>102956.000000</td>\n",
              "      <td>2.000000</td>\n",
              "      <td>8.000000e+01</td>\n",
              "      <td>7.000000</td>\n",
              "      <td>9.000000</td>\n",
              "      <td>99.000000</td>\n",
              "      <td>2.000000</td>\n",
              "      <td>236.000000</td>\n",
              "      <td>1.360000e+02</td>\n",
              "      <td>3.523000e+03</td>\n",
              "      <td>2.161400e+02</td>\n",
              "      <td>7.194000e+02</td>\n",
              "      <td>6.902300e+02</td>\n",
              "      <td>8.870000e+01</td>\n",
              "      <td>2.347300e+02</td>\n",
              "      <td>1.150640e+02</td>\n",
              "      <td>1.002600e+02</td>\n",
              "      <td>1.549960e+02</td>\n",
              "      <td>2.319000e+03</td>\n",
              "      <td>3.326000e+02</td>\n",
              "      <td>242.600000</td>\n",
              "      <td>86.200000</td>\n",
              "      <td>169.500000</td>\n",
              "      <td>485.100000</td>\n",
              "      <td>25.000000</td>\n",
              "      <td>999.000000</td>\n",
              "      <td>9.900000e+01</td>\n",
              "      <td>9.900000e+01</td>\n",
              "      <td>9.900000e+01</td>\n",
              "      <td>9.000000</td>\n",
              "      <td>9.000000</td>\n",
              "      <td>9.000000</td>\n",
              "      <td>9.000000</td>\n",
              "      <td>9.000000</td>\n",
              "      <td>2.000000</td>\n",
              "      <td>2.000000</td>\n",
              "      <td>2.000000</td>\n",
              "      <td>2.000000</td>\n",
              "      <td>3.000000</td>\n",
              "      <td>9.000000</td>\n",
              "      <td>9.000000</td>\n",
              "      <td>9.000000</td>\n",
              "      <td>9.000000</td>\n",
              "      <td>999.000000</td>\n",
              "      <td>9.000000</td>\n",
              "      <td>9.000000</td>\n",
              "      <td>99.000000</td>\n",
              "      <td>9.000000</td>\n",
              "    </tr>\n",
              "  </tbody>\n",
              "</table>\n",
              "</div>"
            ],
            "text/plain": [
              "       ParticipantID         Gender  ...      Fam_hist    Blood_test\n",
              "count  114297.000000  114297.000000  ...  15889.000000  75761.000000\n",
              "mean    98333.933034       1.512297  ...     10.078419      1.750861\n",
              "std      2680.324611       0.499851  ...      2.640754      1.446341\n",
              "min     93703.000000       1.000000  ...     10.000000      1.000000\n",
              "25%     96001.000000       1.000000  ...     10.000000      1.000000\n",
              "50%     98353.000000       2.000000  ...     10.000000      2.000000\n",
              "75%    100645.000000       2.000000  ...     10.000000      2.000000\n",
              "max    102956.000000       2.000000  ...     99.000000      9.000000\n",
              "\n",
              "[8 rows x 48 columns]"
            ]
          },
          "metadata": {
            "tags": []
          },
          "execution_count": 6
        }
      ]
    },
    {
      "cell_type": "code",
      "metadata": {
        "colab": {
          "base_uri": "https://localhost:8080/"
        },
        "id": "jn4ahKRY7Jn2",
        "outputId": "0880ca3a-a545-4651-c96e-9559718ab315"
      },
      "source": [
        "#Percentage of Response variable\n",
        "df.Diagnosis.value_counts()/df.shape[0]"
      ],
      "execution_count": null,
      "outputs": [
        {
          "output_type": "execute_result",
          "data": {
            "text/plain": [
              "2.0    0.839891\n",
              "1.0    0.104596\n",
              "3.0    0.023246\n",
              "9.0    0.000245\n",
              "Name: Diagnosis, dtype: float64"
            ]
          },
          "metadata": {
            "tags": []
          },
          "execution_count": 26
        }
      ]
    },
    {
      "cell_type": "code",
      "metadata": {
        "colab": {
          "base_uri": "https://localhost:8080/"
        },
        "id": "ABB-hiiV8qY_",
        "outputId": "5d32125f-5270-4e77-a103-04f586592901"
      },
      "source": [
        "df.Gender.value_counts()/df.shape[0]"
      ],
      "execution_count": null,
      "outputs": [
        {
          "output_type": "execute_result",
          "data": {
            "text/plain": [
              "2    0.512297\n",
              "1    0.487703\n",
              "Name: Gender, dtype: float64"
            ]
          },
          "metadata": {
            "tags": []
          },
          "execution_count": 28
        }
      ]
    },
    {
      "cell_type": "code",
      "metadata": {
        "colab": {
          "base_uri": "https://localhost:8080/"
        },
        "id": "aTAUWdND8qgn",
        "outputId": "96ae99c2-44f5-41fd-f4d4-ecd29ac253aa"
      },
      "source": [
        "df.Race.value_counts()/df.shape[0]"
      ],
      "execution_count": null,
      "outputs": [
        {
          "output_type": "execute_result",
          "data": {
            "text/plain": [
              "3    0.359056\n",
              "4    0.208361\n",
              "1    0.146994\n",
              "6    0.131456\n",
              "2    0.088515\n",
              "7    0.065619\n",
              "Name: Race, dtype: float64"
            ]
          },
          "metadata": {
            "tags": []
          },
          "execution_count": 27
        }
      ]
    },
    {
      "cell_type": "code",
      "metadata": {
        "colab": {
          "base_uri": "https://localhost:8080/"
        },
        "id": "AB4RVLsS8wmq",
        "outputId": "68bf6310-81ef-47ae-e931-209059f9f808"
      },
      "source": [
        "df.Age.describe()"
      ],
      "execution_count": null,
      "outputs": [
        {
          "output_type": "execute_result",
          "data": {
            "text/plain": [
              "count    1.142970e+05\n",
              "mean     3.706632e+01\n",
              "std      2.536342e+01\n",
              "min      5.400000e-79\n",
              "25%      1.300000e+01\n",
              "50%      3.600000e+01\n",
              "75%      6.000000e+01\n",
              "max      8.000000e+01\n",
              "Name: Age, dtype: float64"
            ]
          },
          "metadata": {
            "tags": []
          },
          "execution_count": 30
        }
      ]
    },
    {
      "cell_type": "code",
      "metadata": {
        "id": "asJuMzPl2rcz"
      },
      "source": [
        "var_corr = df.iloc[:,1:11].corr()"
      ],
      "execution_count": null,
      "outputs": []
    },
    {
      "cell_type": "code",
      "metadata": {
        "colab": {
          "base_uri": "https://localhost:8080/",
          "height": 479
        },
        "id": "OqqfNlXs2PeZ",
        "outputId": "623963f1-bd92-40fc-aafc-3721e8cb255a"
      },
      "source": [
        "import matplotlib.pyplot as plt\n",
        "import seaborn as sns\n",
        "\n",
        "plt.figure(figsize = (12,6))\n",
        "sns.heatmap(var_corr)\n",
        "plt.title(\"\")"
      ],
      "execution_count": null,
      "outputs": [
        {
          "output_type": "execute_result",
          "data": {
            "text/plain": [
              "Text(0.5, 1.0, '')"
            ]
          },
          "metadata": {
            "tags": []
          },
          "execution_count": 8
        },
        {
          "output_type": "display_data",
          "data": {
            "image/png": "[encoded data removed]",
            "text/plain": [
              "<Figure size 864x432 with 2 Axes>"
            ]
          },
          "metadata": {
            "tags": [],
            "needs_background": "light"
          }
        }
      ]
    },
    {
      "cell_type": "code",
      "metadata": {
        "colab": {
          "base_uri": "https://localhost:8080/",
          "height": 421
        },
        "id": "EsRXSG9e498z",
        "outputId": "ee13deef-da84-47ca-cce1-495769c6889d"
      },
      "source": [
        "plt.figure(figsize=(7,5))\n",
        "sns.distplot(df['Diagnosis'], kde=False)\n",
        "plt.ylabel('Frequency')\n",
        "plt.xlabel('Diagnosis')\n",
        "plt.title('Distribution of Diagnosis')"
      ],
      "execution_count": null,
      "outputs": [
        {
          "output_type": "stream",
          "text": [
            "/usr/local/lib/python3.7/dist-packages/seaborn/distributions.py:2557: FutureWarning: `distplot` is a deprecated function and will be removed in a future version. Please adapt your code to use either `displot` (a figure-level function with similar flexibility) or `histplot` (an axes-level function for histograms).\n",
            "  warnings.warn(msg, FutureWarning)\n"
          ],
          "name": "stderr"
        },
        {
          "output_type": "execute_result",
          "data": {
            "text/plain": [
              "Text(0.5, 1.0, 'Distribution of Diagnosis')"
            ]
          },
          "metadata": {
            "tags": []
          },
          "execution_count": 9
        },
        {
          "output_type": "display_data",
          "data": {
            "image/png": "[encoded data removed]",
            "text/plain": [
              "<Figure size 504x360 with 1 Axes>"
            ]
          },
          "metadata": {
            "tags": [],
            "needs_background": "light"
          }
        }
      ]
    },
    {
      "cell_type": "code",
      "metadata": {
        "colab": {
          "base_uri": "https://localhost:8080/",
          "height": 417
        },
        "id": "Pv6mDA6058Mi",
        "outputId": "401a9394-6ea7-4565-f071-6079e5973c1f"
      },
      "source": [
        "plt.figure(figsize=(7,5))\n",
        "sns.catplot(x='Diagnosis', y='Total_sugar', data=df)\n",
        "plt.ylabel('Frequency')\n",
        "plt.xlabel('Diagnosis')"
      ],
      "execution_count": null,
      "outputs": [
        {
          "output_type": "execute_result",
          "data": {
            "text/plain": [
              "Text(0.5, 6.79999999999999, 'Diagnosis')"
            ]
          },
          "metadata": {
            "tags": []
          },
          "execution_count": 16
        },
        {
          "output_type": "display_data",
          "data": {
            "text/plain": [
              "<Figure size 504x360 with 0 Axes>"
            ]
          },
          "metadata": {
            "tags": []
          }
        },
        {
          "output_type": "display_data",
          "data": {
            "image/png": "[encoded data removed]",
            "text/plain": [
              "<Figure size 360x360 with 1 Axes>"
            ]
          },
          "metadata": {
            "tags": [],
            "needs_background": "light"
          }
        }
      ]
    },
    {
      "cell_type": "code",
      "metadata": {
        "colab": {
          "base_uri": "https://localhost:8080/",
          "height": 514
        },
        "id": "MBNZ7kRq5qH_",
        "outputId": "4b2b2bfb-5c02-4bb2-81da-4c70f4090b2a"
      },
      "source": [
        "plt.figure(figsize=(10,7))\n",
        "sns.boxplot(df['Total_sugar'])\n",
        "plt.xlabel(\"Distribution of Total_sugar\")"
      ],
      "execution_count": null,
      "outputs": [
        {
          "output_type": "stream",
          "text": [
            "/usr/local/lib/python3.7/dist-packages/seaborn/_decorators.py:43: FutureWarning: Pass the following variable as a keyword arg: x. From version 0.12, the only valid positional argument will be `data`, and passing other arguments without an explicit keyword will result in an error or misinterpretation.\n",
            "  FutureWarning\n"
          ],
          "name": "stderr"
        },
        {
          "output_type": "execute_result",
          "data": {
            "text/plain": [
              "Text(0.5, 0, 'Distribution of Total_sugar')"
            ]
          },
          "metadata": {
            "tags": []
          },
          "execution_count": 13
        },
        {
          "output_type": "display_data",
          "data": {
            "image/png": "[encoded data removed]",
            "text/plain": [
              "<Figure size 720x504 with 1 Axes>"
            ]
          },
          "metadata": {
            "tags": [],
            "needs_background": "light"
          }
        }
      ]
    },
    {
      "cell_type": "code",
      "metadata": {
        "colab": {
          "base_uri": "https://localhost:8080/",
          "height": 514
        },
        "id": "NbKhFAj148Dr",
        "outputId": "a62c2de5-4a35-4d0e-dffa-837f4b2e416f"
      },
      "source": [
        "plt.figure(figsize=(10,7))\n",
        "sns.boxplot(df['Total_fat'])\n",
        "plt.xlabel(\"Distribution of Total_fat\")"
      ],
      "execution_count": null,
      "outputs": [
        {
          "output_type": "stream",
          "text": [
            "/usr/local/lib/python3.7/dist-packages/seaborn/_decorators.py:43: FutureWarning: Pass the following variable as a keyword arg: x. From version 0.12, the only valid positional argument will be `data`, and passing other arguments without an explicit keyword will result in an error or misinterpretation.\n",
            "  FutureWarning\n"
          ],
          "name": "stderr"
        },
        {
          "output_type": "execute_result",
          "data": {
            "text/plain": [
              "Text(0.5, 0, 'Distribution of Total_fat')"
            ]
          },
          "metadata": {
            "tags": []
          },
          "execution_count": 14
        },
        {
          "output_type": "display_data",
          "data": {
            "image/png": "[encoded data removed]",
            "text/plain": [
              "<Figure size 720x504 with 1 Axes>"
            ]
          },
          "metadata": {
            "tags": [],
            "needs_background": "light"
          }
        }
      ]
    },
    {
      "cell_type": "code",
      "metadata": {
        "colab": {
          "base_uri": "https://localhost:8080/",
          "height": 514
        },
        "id": "vXXYsvBZ4LIj",
        "outputId": "1dcecddc-a06d-4c94-ffe8-74f77e32e44b"
      },
      "source": [
        "plt.figure(figsize=(10,7))\n",
        "sns.boxplot(df['Total_fat'])\n",
        "plt.xlabel(\"Distribution of Total_fat\")"
      ],
      "execution_count": null,
      "outputs": [
        {
          "output_type": "stream",
          "text": [
            "/usr/local/lib/python3.7/dist-packages/seaborn/_decorators.py:43: FutureWarning: Pass the following variable as a keyword arg: x. From version 0.12, the only valid positional argument will be `data`, and passing other arguments without an explicit keyword will result in an error or misinterpretation.\n",
            "  FutureWarning\n"
          ],
          "name": "stderr"
        },
        {
          "output_type": "execute_result",
          "data": {
            "text/plain": [
              "Text(0.5, 0, 'Distribution of Total_fat')"
            ]
          },
          "metadata": {
            "tags": []
          },
          "execution_count": 15
        },
        {
          "output_type": "display_data",
          "data": {
            "image/png": "[encoded data removed]",
            "text/plain": [
              "<Figure size 720x504 with 1 Axes>"
            ]
          },
          "metadata": {
            "tags": [],
            "needs_background": "light"
          }
        }
      ]
    }
  ]
}